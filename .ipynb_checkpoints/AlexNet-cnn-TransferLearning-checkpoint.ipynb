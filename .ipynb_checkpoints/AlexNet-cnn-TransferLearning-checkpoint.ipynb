{
 "cells": [
  {
   "cell_type": "code",
   "execution_count": 1,
   "id": "db13f4a3",
   "metadata": {},
   "outputs": [],
   "source": [
    "import torch\n",
    "import torch.nn as nn\n",
    "import matplotlib.pyplot as plt\n",
    "\n",
    "from torch.autograd import Variable\n",
    "\n",
    "# Torchvision module contains various utilities, classes, models and datasets \n",
    "# used towards computer vision usecases\n",
    "from torchvision import datasets\n",
    "from torchvision import transforms\n",
    "import torchvision\n",
    "\n",
    "# Functional module contains helper functions\n",
    "import torch.nn.functional as F"
   ]
  },
  {
   "cell_type": "code",
   "execution_count": 15,
   "id": "ac9ef889",
   "metadata": {},
   "outputs": [
    {
     "name": "stdout",
     "output_type": "stream",
     "text": [
      "Files already downloaded and verified\n",
      "Files already downloaded and verified\n"
     ]
    }
   ],
   "source": [
    "transform = transforms.Compose([\n",
    "    transforms.Resize(256),\n",
    "    transforms.CenterCrop(224),\n",
    "    transforms.ToTensor(),\n",
    "    transforms.Normalize(mean=[0.485, 0.456, 0.406], std=[0.229, 0.224, 0.225]),\n",
    "])\n",
    "\n",
    "batch_size = 4\n",
    "\n",
    "trainset = torchvision.datasets.CIFAR10(root='./data', train=True,\n",
    "                                        download=True, transform=transform)\n",
    "trainloader = torch.utils.data.DataLoader(trainset, batch_size=batch_size,\n",
    "                                          shuffle=True, num_workers=2)\n",
    "\n",
    "testset = torchvision.datasets.CIFAR10(root='./data', train=False,\n",
    "                                       download=True, transform=transform)\n",
    "testloader = torch.utils.data.DataLoader(testset, batch_size=batch_size,\n",
    "                                         shuffle=False, num_workers=2)\n",
    "\n",
    "classes = ('plane', 'car', 'bird', 'cat',\n",
    "           'deer', 'dog', 'frog', 'horse', 'ship', 'truck')\n"
   ]
  },
  {
   "cell_type": "code",
   "execution_count": 3,
   "id": "b8137027",
   "metadata": {},
   "outputs": [
    {
     "name": "stderr",
     "output_type": "stream",
     "text": [
      "Using cache found in C:\\Users\\merna/.cache\\torch\\hub\\pytorch_vision_v0.6.0\n"
     ]
    }
   ],
   "source": [
    "# The model\n",
    "#net = torchvision.models.resnet50()\n",
    "\n",
    "net = torch.hub.load('pytorch/vision:v0.6.0', 'alexnet', pretrained=True)\n",
    "\n",
    "#Updating the second classifier\n",
    "net.classifier[4] = nn.Linear(4096,1024)\n",
    "\n",
    "#Updating the third and the last classifier that is the output layer of the network. Make sure to have 10 output nodes if we are going to get 10 class labels through our model.\n",
    "net.classifier[6] = nn.Linear(1024,10)\n",
    "\n",
    "# Our loss function\n",
    "criterion = nn.CrossEntropyLoss()\n",
    "\n",
    "# Our optimizer\n",
    "learning_rate = 0.001\n",
    "optimizer = torch.optim.SGD(net.parameters(), lr=learning_rate, momentum=0.9) "
   ]
  },
  {
   "cell_type": "code",
   "execution_count": 5,
   "id": "781a1ea5",
   "metadata": {},
   "outputs": [
    {
     "name": "stdout",
     "output_type": "stream",
     "text": [
      "[1,  2000] loss: 1.368\n",
      "[1,  4000] loss: 1.040\n",
      "[1,  6000] loss: 0.946\n",
      "[1,  8000] loss: 0.869\n",
      "[1, 10000] loss: 0.824\n",
      "[1, 12000] loss: 0.784\n",
      "[2,  2000] loss: 0.686\n",
      "[2,  4000] loss: 0.679\n",
      "[2,  6000] loss: 0.667\n",
      "[2,  8000] loss: 0.701\n",
      "[2, 10000] loss: 0.673\n",
      "[2, 12000] loss: 0.637\n",
      "[3,  2000] loss: 0.546\n",
      "[3,  4000] loss: 0.546\n",
      "[3,  6000] loss: 0.566\n",
      "[3,  8000] loss: 0.555\n",
      "[3, 10000] loss: 0.563\n",
      "[3, 12000] loss: 0.574\n",
      "[4,  2000] loss: 0.456\n",
      "[4,  4000] loss: 0.467\n",
      "[4,  6000] loss: 0.485\n",
      "[4,  8000] loss: 0.493\n",
      "[4, 10000] loss: 0.504\n",
      "[4, 12000] loss: 0.503\n",
      "[5,  2000] loss: 0.401\n",
      "[5,  4000] loss: 0.412\n",
      "[5,  6000] loss: 0.468\n",
      "[5,  8000] loss: 0.436\n",
      "[5, 10000] loss: 0.455\n",
      "[5, 12000] loss: 0.462\n",
      "[6,  2000] loss: 0.375\n",
      "[6,  4000] loss: 0.375\n",
      "[6,  6000] loss: 0.383\n",
      "[6,  8000] loss: 0.401\n",
      "[6, 10000] loss: 0.400\n",
      "[6, 12000] loss: 0.436\n",
      "[7,  2000] loss: 0.346\n",
      "[7,  4000] loss: 0.369\n",
      "[7,  6000] loss: 0.375\n",
      "[7,  8000] loss: 0.384\n",
      "[7, 10000] loss: 0.409\n",
      "[7, 12000] loss: 0.405\n",
      "[8,  2000] loss: 0.314\n",
      "[8,  4000] loss: 0.333\n",
      "[8,  6000] loss: 0.352\n",
      "[8,  8000] loss: 0.357\n",
      "[8, 10000] loss: 0.375\n",
      "[8, 12000] loss: 0.367\n",
      "[9,  2000] loss: 0.290\n",
      "[9,  4000] loss: 0.341\n",
      "[9,  6000] loss: 0.337\n",
      "[9,  8000] loss: 0.342\n",
      "[9, 10000] loss: 0.356\n",
      "[9, 12000] loss: 0.383\n",
      "[10,  2000] loss: 0.295\n",
      "[10,  4000] loss: 0.306\n",
      "[10,  6000] loss: 0.352\n",
      "[10,  8000] loss: 0.326\n",
      "[10, 10000] loss: 0.361\n",
      "[10, 12000] loss: 0.382\n",
      "Finished Training\n"
     ]
    }
   ],
   "source": [
    "for epoch in range(10):  # loop over the dataset multiple times\n",
    "\n",
    "    running_loss = 0.0\n",
    "    for i, data in enumerate(trainloader, 0):\n",
    "        # get the inputs; data is a list of [inputs, labels]\n",
    "        inputs, labels = data\n",
    "\n",
    "        # zero the parameter gradients\n",
    "        optimizer.zero_grad()\n",
    "\n",
    "        # forward + backward + optimize\n",
    "        outputs = net(inputs)\n",
    "        loss = criterion(outputs, labels)\n",
    "        loss.backward()\n",
    "        optimizer.step()\n",
    "\n",
    "        # print statistics\n",
    "        running_loss += loss.item()\n",
    "        if i % 2000 == 1999:    # print every 2000 mini-batches\n",
    "            print('[%d, %5d] loss: %.3f' %\n",
    "                  (epoch + 1, i + 1, running_loss / 2000))\n",
    "            running_loss = 0.0\n",
    "\n",
    "print('Finished Training')"
   ]
  },
  {
   "cell_type": "code",
   "execution_count": 6,
   "id": "f659dfd8",
   "metadata": {},
   "outputs": [
    {
     "name": "stdout",
     "output_type": "stream",
     "text": [
      "Accuracy of the network on the 10000 test images: 79 %\n"
     ]
    }
   ],
   "source": [
    "correct = 0\n",
    "total = 0\n",
    "# since we're not training, we don't need to calculate the gradients for our outputs\n",
    "with torch.no_grad():\n",
    "    for data in testloader:\n",
    "        images, labels = data\n",
    "        # calculate outputs by running images through the network\n",
    "        outputs = net(images)\n",
    "        # the class with the highest energy is what we choose as prediction\n",
    "        _, predicted = torch.max(outputs.data, 1)\n",
    "        total += labels.size(0)\n",
    "        correct += (predicted == labels).sum().item()\n",
    "\n",
    "print('Accuracy of the network on the 10000 test images: %d %%' % (\n",
    "    100 * correct / total))"
   ]
  },
  {
   "cell_type": "code",
   "execution_count": null,
   "id": "cbadecc8",
   "metadata": {},
   "outputs": [],
   "source": [
    "# prepare to count predictions for each class\n",
    "correct_pred = {classname: 0 for classname in classes}\n",
    "total_pred = {classname: 0 for classname in classes}\n",
    "\n",
    "# again no gradients needed\n",
    "with torch.no_grad():\n",
    "    for data in testloader:\n",
    "        images, labels = data\n",
    "        outputs = net(images)\n",
    "        _, predictions = torch.max(outputs, 1)\n",
    "        # collect the correct predictions for each class\n",
    "        for label, prediction in zip(labels, predictions):\n",
    "            if label == prediction:\n",
    "                correct_pred[classes[label]] += 1\n",
    "            total_pred[classes[label]] += 1\n",
    "\n",
    "\n",
    "# print accuracy for each class\n",
    "for classname, correct_count in correct_pred.items():\n",
    "    accuracy = 100 * float(correct_count) / total_pred[classname]\n",
    "    print(\"Accuracy for class {:5s} is: {:.1f} %\".format(classname,\n",
    "                                                   accuracy))"
   ]
  },
  {
   "cell_type": "code",
   "execution_count": 14,
   "id": "6bc21463",
   "metadata": {},
   "outputs": [],
   "source": [
    "#torch.save(net.state_dict(), \"./2.model.path\")"
   ]
  },
  {
   "cell_type": "code",
   "execution_count": null,
   "id": "72b774e7",
   "metadata": {},
   "outputs": [],
   "source": []
  }
 ],
 "metadata": {
  "kernelspec": {
   "display_name": "Python 3",
   "language": "python",
   "name": "python3"
  },
  "language_info": {
   "codemirror_mode": {
    "name": "ipython",
    "version": 3
   },
   "file_extension": ".py",
   "mimetype": "text/x-python",
   "name": "python",
   "nbconvert_exporter": "python",
   "pygments_lexer": "ipython3",
   "version": "3.6.13"
  }
 },
 "nbformat": 4,
 "nbformat_minor": 5
}

{
 "cells": [
  {
   "cell_type": "code",
   "execution_count": 9,
   "id": "d608820d",
   "metadata": {},
   "outputs": [],
   "source": [
    "import torch\n",
    "import torch.nn as nn\n",
    "import matplotlib.pyplot as plt\n",
    "\n",
    "from torch.autograd import Variable\n",
    "\n",
    "from ipynb.fs.full.CIFAR_CNN import MNISTNet\n",
    "\n",
    "\n",
    "from torchvision import datasets\n",
    "from torchvision import transforms\n",
    "\n",
    "# Functional module contains helper functions\n",
    "import torch.nn.functional as F\n",
    "\n"
   ]
  },
  {
   "cell_type": "code",
   "execution_count": 10,
   "id": "985f0488",
   "metadata": {},
   "outputs": [
    {
     "ename": "RuntimeError",
     "evalue": "Error(s) in loading state_dict for MNISTNet:\n\tMissing key(s) in state_dict: \"fc3.weight\", \"fc3.bias\". \n\tsize mismatch for conv1.weight: copying a param with shape torch.Size([20, 1, 5, 5]) from checkpoint, the shape in current model is torch.Size([6, 3, 5, 5]).\n\tsize mismatch for conv1.bias: copying a param with shape torch.Size([20]) from checkpoint, the shape in current model is torch.Size([6]).\n\tsize mismatch for conv2.weight: copying a param with shape torch.Size([30, 20, 5, 5]) from checkpoint, the shape in current model is torch.Size([16, 6, 5, 5]).\n\tsize mismatch for conv2.bias: copying a param with shape torch.Size([30]) from checkpoint, the shape in current model is torch.Size([16]).\n\tsize mismatch for fc1.weight: copying a param with shape torch.Size([500, 3000]) from checkpoint, the shape in current model is torch.Size([120, 400]).\n\tsize mismatch for fc1.bias: copying a param with shape torch.Size([500]) from checkpoint, the shape in current model is torch.Size([120]).\n\tsize mismatch for fc2.weight: copying a param with shape torch.Size([10, 500]) from checkpoint, the shape in current model is torch.Size([84, 120]).\n\tsize mismatch for fc2.bias: copying a param with shape torch.Size([10]) from checkpoint, the shape in current model is torch.Size([84]).",
     "output_type": "error",
     "traceback": [
      "\u001b[1;31m---------------------------------------------------------------------------\u001b[0m",
      "\u001b[1;31mRuntimeError\u001b[0m                              Traceback (most recent call last)",
      "\u001b[1;32m<ipython-input-10-9882b496e189>\u001b[0m in \u001b[0;36m<module>\u001b[1;34m\u001b[0m\n\u001b[0;32m      1\u001b[0m \u001b[0mnet\u001b[0m \u001b[1;33m=\u001b[0m \u001b[0mMNISTNet\u001b[0m\u001b[1;33m(\u001b[0m\u001b[1;33m)\u001b[0m\u001b[1;33m\u001b[0m\u001b[1;33m\u001b[0m\u001b[0m\n\u001b[1;32m----> 2\u001b[1;33m \u001b[0mnet\u001b[0m\u001b[1;33m.\u001b[0m\u001b[0mload_state_dict\u001b[0m\u001b[1;33m(\u001b[0m\u001b[0mtorch\u001b[0m\u001b[1;33m.\u001b[0m\u001b[0mload\u001b[0m\u001b[1;33m(\u001b[0m\u001b[1;34m\"./2.model.path\"\u001b[0m\u001b[1;33m)\u001b[0m\u001b[1;33m)\u001b[0m\u001b[1;33m\u001b[0m\u001b[1;33m\u001b[0m\u001b[0m\n\u001b[0m",
      "\u001b[1;32m~\\anaconda3\\envs\\pt\\lib\\site-packages\\torch\\nn\\modules\\module.py\u001b[0m in \u001b[0;36mload_state_dict\u001b[1;34m(self, state_dict, strict)\u001b[0m\n\u001b[0;32m   1222\u001b[0m         \u001b[1;32mif\u001b[0m \u001b[0mlen\u001b[0m\u001b[1;33m(\u001b[0m\u001b[0merror_msgs\u001b[0m\u001b[1;33m)\u001b[0m \u001b[1;33m>\u001b[0m \u001b[1;36m0\u001b[0m\u001b[1;33m:\u001b[0m\u001b[1;33m\u001b[0m\u001b[1;33m\u001b[0m\u001b[0m\n\u001b[0;32m   1223\u001b[0m             raise RuntimeError('Error(s) in loading state_dict for {}:\\n\\t{}'.format(\n\u001b[1;32m-> 1224\u001b[1;33m                                self.__class__.__name__, \"\\n\\t\".join(error_msgs)))\n\u001b[0m\u001b[0;32m   1225\u001b[0m         \u001b[1;32mreturn\u001b[0m \u001b[0m_IncompatibleKeys\u001b[0m\u001b[1;33m(\u001b[0m\u001b[0mmissing_keys\u001b[0m\u001b[1;33m,\u001b[0m \u001b[0munexpected_keys\u001b[0m\u001b[1;33m)\u001b[0m\u001b[1;33m\u001b[0m\u001b[1;33m\u001b[0m\u001b[0m\n\u001b[0;32m   1226\u001b[0m \u001b[1;33m\u001b[0m\u001b[0m\n",
      "\u001b[1;31mRuntimeError\u001b[0m: Error(s) in loading state_dict for MNISTNet:\n\tMissing key(s) in state_dict: \"fc3.weight\", \"fc3.bias\". \n\tsize mismatch for conv1.weight: copying a param with shape torch.Size([20, 1, 5, 5]) from checkpoint, the shape in current model is torch.Size([6, 3, 5, 5]).\n\tsize mismatch for conv1.bias: copying a param with shape torch.Size([20]) from checkpoint, the shape in current model is torch.Size([6]).\n\tsize mismatch for conv2.weight: copying a param with shape torch.Size([30, 20, 5, 5]) from checkpoint, the shape in current model is torch.Size([16, 6, 5, 5]).\n\tsize mismatch for conv2.bias: copying a param with shape torch.Size([30]) from checkpoint, the shape in current model is torch.Size([16]).\n\tsize mismatch for fc1.weight: copying a param with shape torch.Size([500, 3000]) from checkpoint, the shape in current model is torch.Size([120, 400]).\n\tsize mismatch for fc1.bias: copying a param with shape torch.Size([500]) from checkpoint, the shape in current model is torch.Size([120]).\n\tsize mismatch for fc2.weight: copying a param with shape torch.Size([10, 500]) from checkpoint, the shape in current model is torch.Size([84, 120]).\n\tsize mismatch for fc2.bias: copying a param with shape torch.Size([10]) from checkpoint, the shape in current model is torch.Size([84])."
     ]
    }
   ],
   "source": [
    "net = MNISTNet()\n",
    "net.load_state_dict(torch.load(\"./2.model.path\"))"
   ]
  },
  {
   "cell_type": "code",
   "execution_count": null,
   "id": "72c145de",
   "metadata": {},
   "outputs": [],
   "source": [
    "from PIL import Image\n",
    "\n",
    "import torch\n",
    "import torch.nn as nn\n",
    "import matplotlib.pyplot as plt\n",
    "\n",
    "from torch.autograd import Variable\n",
    "\n",
    "# Torchvision module contains various utilities, classes, models and datasets \n",
    "# used towards computer vision usecases\n",
    "from torchvision import datasets\n",
    "from torchvision import transforms\n",
    "\n",
    "# Functional module contains helper functions\n",
    "import torch.nn.functional as F\n",
    "\n",
    "mean_gray = 0.1307\n",
    "stddev_gray = 0.3081\n",
    "\n",
    "transform=transforms.Compose([transforms.ToTensor(),\n",
    "                              transforms.Normalize((mean_gray,), (stddev_gray,))])\n",
    "\n",
    "mnist_train = datasets.MNIST('./data', train=True, download=True, transform=transform)\n",
    "mnist_valid = datasets.MNIST('./data', train=False, download=True, transform=transform)\n",
    "\n",
    "\n",
    "net.eval()\n",
    "\n",
    "image = mnist_train[4][0].numpy() * stddev_gray + mean_gray\n",
    "X = transform(image)\n",
    "\n",
    "# Transforms the image\n",
    "X = X.reshape((1, 1, 28, 28))"
   ]
  },
  {
   "cell_type": "code",
   "execution_count": null,
   "id": "6e625dfd",
   "metadata": {},
   "outputs": [],
   "source": [
    "X.requires_grad_()\n",
    "\n",
    "\n",
    "saliency = None\n",
    "\n",
    "# Retrieve output from the image\n",
    "output = net(X)\n",
    "\n",
    "\n",
    "# Catch the output\n",
    "output_idx = output.argmax()\n",
    "output_max = output[0, output_idx]\n",
    "\n",
    "# Do backpropagation to get the derivative \n",
    "# of the output based on the image\n",
    "output_max.backward()"
   ]
  },
  {
   "cell_type": "code",
   "execution_count": null,
   "id": "2925a4fc",
   "metadata": {},
   "outputs": [],
   "source": [
    "import torch\n",
    "import torch.nn as nn\n",
    "# Retireve the saliency map and also pick the maximum value from channels on each pixel.\n",
    "# In this case, we look at dim=1. Recall the shape (batch_size, channel, width, height)\n",
    "saliency, _ = torch.max(X.grad.data.abs(), dim=1) \n",
    "saliency = saliency.reshape(28, 28)\n",
    "\n",
    "X = X.reshape(-1, 28, 28)\n",
    "\n",
    "# Visualize the image and the saliency map\n",
    "fig, ax = plt.subplots(1, 2)\n",
    "ax[0].imshow(X.detach().numpy().transpose(1, 2, 0))\n",
    "ax[0].axis('off')\n",
    "ax[1].imshow(saliency, cmap='hot')\n",
    "ax[1].axis('off')\n",
    "plt.tight_layout()\n",
    "fig.suptitle('The Image and Its Saliency Map')\n",
    "plt.show()"
   ]
  },
  {
   "cell_type": "code",
   "execution_count": null,
   "id": "5cd304b7",
   "metadata": {},
   "outputs": [],
   "source": []
  }
 ],
 "metadata": {
  "kernelspec": {
   "display_name": "Python 3",
   "language": "python",
   "name": "python3"
  },
  "language_info": {
   "codemirror_mode": {
    "name": "ipython",
    "version": 3
   },
   "file_extension": ".py",
   "mimetype": "text/x-python",
   "name": "python",
   "nbconvert_exporter": "python",
   "pygments_lexer": "ipython3",
   "version": "3.6.13"
  }
 },
 "nbformat": 4,
 "nbformat_minor": 5
}

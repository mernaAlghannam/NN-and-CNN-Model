{
 "cells": [
  {
   "cell_type": "code",
   "execution_count": 94,
   "id": "45745eb0",
   "metadata": {},
   "outputs": [],
   "source": [
    "import torch\n",
    "import torch.nn as nn\n",
    "import torch.nn.functional as F\n",
    "import matplotlib.pyplot as plt\n",
    "\n",
    "from torch.autograd import Variable"
   ]
  },
  {
   "cell_type": "markdown",
   "id": "2c5aac1b",
   "metadata": {},
   "source": [
    "**Create the Fully Connected Feed Forward Neural Network**"
   ]
  },
  {
   "cell_type": "code",
   "execution_count": 95,
   "id": "5358c05c",
   "metadata": {},
   "outputs": [],
   "source": [
    "class Neural_Network(nn.Module):\n",
    "    def __init__(self):\n",
    "       super().__init__()\n",
    "       self.fc1 = nn.Linear(in_features=4, out_features=16)\n",
    "       self.fc2 = nn.Linear(in_features=16, out_features=12)\n",
    "       self.output = nn.Linear(in_features=12, out_features=3)\n",
    " \n",
    "    def forward(self, x):\n",
    "        x = F.relu(self.fc1(x))\n",
    "        x = F.relu(self.fc2(x))\n",
    "        x = self.output(x)\n",
    "        return x"
   ]
  },
  {
   "cell_type": "code",
   "execution_count": 96,
   "id": "7f3ed731",
   "metadata": {},
   "outputs": [
    {
     "name": "stdout",
     "output_type": "stream",
     "text": [
      "Neural_Network(\n",
      "  (fc1): Linear(in_features=4, out_features=16, bias=True)\n",
      "  (fc2): Linear(in_features=16, out_features=12, bias=True)\n",
      "  (output): Linear(in_features=12, out_features=3, bias=True)\n",
      ")\n"
     ]
    }
   ],
   "source": [
    "model = Neural_Network()\n",
    "print(model)"
   ]
  },
  {
   "cell_type": "markdown",
   "id": "8d32c464",
   "metadata": {},
   "source": [
    "**Create the DataLoader**"
   ]
  },
  {
   "cell_type": "code",
   "execution_count": 99,
   "id": "cb4aa60a",
   "metadata": {},
   "outputs": [
    {
     "data": {
      "text/html": [
       "<div>\n",
       "<style scoped>\n",
       "    .dataframe tbody tr th:only-of-type {\n",
       "        vertical-align: middle;\n",
       "    }\n",
       "\n",
       "    .dataframe tbody tr th {\n",
       "        vertical-align: top;\n",
       "    }\n",
       "\n",
       "    .dataframe thead th {\n",
       "        text-align: right;\n",
       "    }\n",
       "</style>\n",
       "<table border=\"1\" class=\"dataframe\">\n",
       "  <thead>\n",
       "    <tr style=\"text-align: right;\">\n",
       "      <th></th>\n",
       "      <th>sepal_length</th>\n",
       "      <th>sepal_width</th>\n",
       "      <th>petal_length</th>\n",
       "      <th>petal_width</th>\n",
       "      <th>species</th>\n",
       "    </tr>\n",
       "  </thead>\n",
       "  <tbody>\n",
       "    <tr>\n",
       "      <th>0</th>\n",
       "      <td>5.1</td>\n",
       "      <td>3.5</td>\n",
       "      <td>1.4</td>\n",
       "      <td>0.2</td>\n",
       "      <td>Iris-setosa</td>\n",
       "    </tr>\n",
       "    <tr>\n",
       "      <th>1</th>\n",
       "      <td>4.9</td>\n",
       "      <td>3.0</td>\n",
       "      <td>1.4</td>\n",
       "      <td>0.2</td>\n",
       "      <td>Iris-setosa</td>\n",
       "    </tr>\n",
       "    <tr>\n",
       "      <th>2</th>\n",
       "      <td>4.7</td>\n",
       "      <td>3.2</td>\n",
       "      <td>1.3</td>\n",
       "      <td>0.2</td>\n",
       "      <td>Iris-setosa</td>\n",
       "    </tr>\n",
       "    <tr>\n",
       "      <th>3</th>\n",
       "      <td>4.6</td>\n",
       "      <td>3.1</td>\n",
       "      <td>1.5</td>\n",
       "      <td>0.2</td>\n",
       "      <td>Iris-setosa</td>\n",
       "    </tr>\n",
       "    <tr>\n",
       "      <th>4</th>\n",
       "      <td>5.0</td>\n",
       "      <td>3.6</td>\n",
       "      <td>1.4</td>\n",
       "      <td>0.2</td>\n",
       "      <td>Iris-setosa</td>\n",
       "    </tr>\n",
       "  </tbody>\n",
       "</table>\n",
       "</div>"
      ],
      "text/plain": [
       "   sepal_length  sepal_width  petal_length  petal_width      species\n",
       "0           5.1          3.5           1.4          0.2  Iris-setosa\n",
       "1           4.9          3.0           1.4          0.2  Iris-setosa\n",
       "2           4.7          3.2           1.3          0.2  Iris-setosa\n",
       "3           4.6          3.1           1.5          0.2  Iris-setosa\n",
       "4           5.0          3.6           1.4          0.2  Iris-setosa"
      ]
     },
     "execution_count": 99,
     "metadata": {},
     "output_type": "execute_result"
    }
   ],
   "source": [
    "import pandas as pd\n",
    "import matplotlib.pyplot as plt\n",
    "from sklearn.model_selection import train_test_split\n",
    "\n",
    "iris = pd.read_csv('data/iris.csv')\n",
    "iris.head()"
   ]
  },
  {
   "cell_type": "code",
   "execution_count": 100,
   "id": "aa876420",
   "metadata": {},
   "outputs": [],
   "source": [
    "mappings = {\n",
    "   'Iris-setosa': 0,\n",
    "   'Iris-versicolor': 1,\n",
    "   'Iris-virginica': 2\n",
    "}\n",
    "iris['species'] = iris['species'].apply(lambda x: mappings[x])"
   ]
  },
  {
   "cell_type": "code",
   "execution_count": 101,
   "id": "078d0aa3",
   "metadata": {},
   "outputs": [],
   "source": [
    "X = iris.drop('species', axis=1).values\n",
    "y = iris['species'].values\n",
    "\n",
    "train_X, test_X, train_y, test_y = train_test_split(X, y, test_size=0.8)\n",
    "\n",
    "train_X = Variable(torch.Tensor(train_X).float())\n",
    "test_X = Variable(torch.Tensor(test_X).float())\n",
    "train_y = Variable(torch.Tensor(train_y).long())\n",
    "test_y = Variable(torch.Tensor(test_y).long())"
   ]
  },
  {
   "cell_type": "markdown",
   "id": "eb1f87d2",
   "metadata": {},
   "source": [
    "**Instantiate the dataframe, the loss function and the optimizer**"
   ]
  },
  {
   "cell_type": "code",
   "execution_count": 103,
   "id": "81f1407a",
   "metadata": {},
   "outputs": [],
   "source": [
    "# Our model\n",
    "net = Neural_Network()\n",
    "\n",
    "# Out loss function\n",
    "criterion = nn.CrossEntropyLoss()\n",
    "\n",
    "# Our optimizer\n",
    "learning_rate = 0.001\n",
    "optimizer = torch.optim.SGD(net.parameters(), lr=learning_rate)  "
   ]
  },
  {
   "cell_type": "markdown",
   "id": "d230cb19",
   "metadata": {},
   "source": [
    "**Train the neural network**"
   ]
  },
  {
   "cell_type": "code",
   "execution_count": 105,
   "id": "9887e313",
   "metadata": {},
   "outputs": [
    {
     "name": "stdout",
     "output_type": "stream",
     "text": [
      "Epoch: 0 Loss: 0.9763611555099487\n",
      "Epoch: 100 Loss: 0.9600970149040222\n",
      "Epoch: 200 Loss: 0.9422221779823303\n",
      "Epoch: 300 Loss: 0.9227132797241211\n",
      "Epoch: 400 Loss: 0.9017849564552307\n",
      "Epoch: 500 Loss: 0.8794938325881958\n",
      "Epoch: 600 Loss: 0.8556717038154602\n",
      "Epoch: 700 Loss: 0.830788254737854\n",
      "Epoch: 800 Loss: 0.8051290512084961\n",
      "Epoch: 900 Loss: 0.7786416411399841\n"
     ]
    }
   ],
   "source": [
    "num_epochs = 1000\n",
    "\n",
    "train_loss = []\n",
    "test_loss = []\n",
    "\n",
    "for epoch in range(num_epochs):\n",
    "    net.train()           # Put the network into training mode\n",
    "    \n",
    "    optimizer.zero_grad()\n",
    "    output = net(train_X)\n",
    "    loss = criterion(output, train_y)\n",
    "    train_loss.append(loss)\n",
    "     \n",
    "    loss.backward()\n",
    "    optimizer.step()\n",
    "\n",
    "    if epoch % 100 == 0:\n",
    "       print(f'Epoch: {epoch} Loss: {loss.data}')\n",
    "\n",
    "\n",
    "\n",
    "    net.eval()                # Put the network into evaluation mode\n",
    "    \n",
    "    # Book keeping\n",
    "    outputs = net(Variable(test_X))\n",
    "    loss = criterion(outputs, Variable(test_y))\n",
    "    test_loss.append(loss.data)"
   ]
  },
  {
   "cell_type": "markdown",
   "id": "3a966ffb",
   "metadata": {},
   "source": [
    "**Plot loss and accuracy per iteration**"
   ]
  },
  {
   "cell_type": "code",
   "execution_count": 106,
   "id": "b2b21dd6",
   "metadata": {},
   "outputs": [
    {
     "data": {
      "image/png": "[encoded data removed]",
      "text/plain": [
       "<Figure size 864x576 with 1 Axes>"
      ]
     },
     "metadata": {
      "needs_background": "light"
     },
     "output_type": "display_data"
    }
   ],
   "source": [
    "fig = plt.figure(figsize=(12, 8))\n",
    "plt.plot(train_loss, label='train loss')\n",
    "plt.plot(test_loss, label='test loss')\n",
    "plt.title(\"Train and Test Loss\")\n",
    "plt.legend()\n",
    "plt.show()"
   ]
  },
  {
   "cell_type": "code",
   "execution_count": 110,
   "id": "e8b119e8",
   "metadata": {},
   "outputs": [
    {
     "name": "stdout",
     "output_type": "stream",
     "text": [
      "prediction accuracy 0.9666666666666667\n",
      "precision 0.9666666666666667\n",
      "recall 0.9666666666666667\n"
     ]
    }
   ],
   "source": [
    "from sklearn.metrics import accuracy_score, precision_score, recall_score\n",
    "\n",
    "predict_out = net(test_X)\n",
    "_, predict_y = torch.max(predict_out, 1)\n",
    "\n",
    "print('prediction accuracy', accuracy_score(test_y.data, predict_y.data))\n",
    "\n",
    "print('precision', precision_score(test_y.data, predict_y.data, average='micro'))\n",
    "print('recall', recall_score(test_y.data, predict_y.data, average='micro'))"
   ]
  }
 ],
 "metadata": {
  "kernelspec": {
   "display_name": "Python 3",
   "language": "python",
   "name": "python3"
  },
  "language_info": {
   "codemirror_mode": {
    "name": "ipython",
    "version": 3
   },
   "file_extension": ".py",
   "mimetype": "text/x-python",
   "name": "python",
   "nbconvert_exporter": "python",
   "pygments_lexer": "ipython3",
   "version": "3.6.13"
  }
 },
 "nbformat": 4,
 "nbformat_minor": 5
}

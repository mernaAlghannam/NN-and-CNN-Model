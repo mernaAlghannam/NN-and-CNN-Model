{
 "cells": [
  {
   "cell_type": "code",
   "execution_count": 403,
   "id": "45745eb0",
   "metadata": {},
   "outputs": [],
   "source": [
    "import torch\n",
    "import torch.nn as nn\n",
    "import torch.nn.functional as F\n",
    "import matplotlib.pyplot as plt\n",
    "import pandas as pd\n",
    "from sklearn.model_selection import train_test_split\n",
    "from sklearn.metrics import accuracy_score, precision_score, recall_score\n",
    "\n",
    "from torch.autograd import Variable"
   ]
  },
  {
   "cell_type": "markdown",
   "id": "2c5aac1b",
   "metadata": {},
   "source": [
    "**Create the Fully Connected Feed Forward Neural Network**"
   ]
  },
  {
   "cell_type": "code",
   "execution_count": 404,
   "id": "5358c05c",
   "metadata": {},
   "outputs": [],
   "source": [
    "class IrisNet(nn.Module):\n",
    "    \n",
    "    def __init__(self):\n",
    "        \n",
    "        super(IrisNet, self).__init__()\n",
    "        self.fc1 = nn.Linear(4, 100)\n",
    "        self.relu1 = nn.ReLU()\n",
    "        self.fc2 = nn.Linear(100, 50)\n",
    "        self.relu2 = nn.ReLU()\n",
    "        self.fc3 = nn.Linear(50, 3)  \n",
    "    \n",
    "    def forward(self, x):\n",
    "        X = self.fc1(x)\n",
    "        X = self.relu1(X)\n",
    "        X = self.fc2(X)\n",
    "        X = self.relu2(X)\n",
    "        X = self.fc3(X)\n",
    "        return X"
   ]
  },
  {
   "cell_type": "markdown",
   "id": "8d32c464",
   "metadata": {},
   "source": [
    "**Create the DataLoader**"
   ]
  },
  {
   "cell_type": "code",
   "execution_count": 405,
   "id": "cb4aa60a",
   "metadata": {},
   "outputs": [
    {
     "data": {
      "text/html": [
       "<div>\n",
       "<style scoped>\n",
       "    .dataframe tbody tr th:only-of-type {\n",
       "        vertical-align: middle;\n",
       "    }\n",
       "\n",
       "    .dataframe tbody tr th {\n",
       "        vertical-align: top;\n",
       "    }\n",
       "\n",
       "    .dataframe thead th {\n",
       "        text-align: right;\n",
       "    }\n",
       "</style>\n",
       "<table border=\"1\" class=\"dataframe\">\n",
       "  <thead>\n",
       "    <tr style=\"text-align: right;\">\n",
       "      <th></th>\n",
       "      <th>sepal_length_cm</th>\n",
       "      <th>sepal_width_cm</th>\n",
       "      <th>petal_length_cm</th>\n",
       "      <th>petal_width_cm</th>\n",
       "      <th>class</th>\n",
       "    </tr>\n",
       "  </thead>\n",
       "  <tbody>\n",
       "    <tr>\n",
       "      <th>0</th>\n",
       "      <td>5.1</td>\n",
       "      <td>3.5</td>\n",
       "      <td>1.4</td>\n",
       "      <td>0.2</td>\n",
       "      <td>Iris-setosa</td>\n",
       "    </tr>\n",
       "    <tr>\n",
       "      <th>1</th>\n",
       "      <td>4.9</td>\n",
       "      <td>3.0</td>\n",
       "      <td>1.4</td>\n",
       "      <td>0.2</td>\n",
       "      <td>Iris-setosa</td>\n",
       "    </tr>\n",
       "    <tr>\n",
       "      <th>2</th>\n",
       "      <td>4.7</td>\n",
       "      <td>3.2</td>\n",
       "      <td>1.3</td>\n",
       "      <td>0.2</td>\n",
       "      <td>Iris-setosa</td>\n",
       "    </tr>\n",
       "    <tr>\n",
       "      <th>3</th>\n",
       "      <td>4.6</td>\n",
       "      <td>3.1</td>\n",
       "      <td>1.5</td>\n",
       "      <td>0.2</td>\n",
       "      <td>Iris-setosa</td>\n",
       "    </tr>\n",
       "    <tr>\n",
       "      <th>4</th>\n",
       "      <td>5.0</td>\n",
       "      <td>3.6</td>\n",
       "      <td>1.4</td>\n",
       "      <td>0.2</td>\n",
       "      <td>Iris-setosa</td>\n",
       "    </tr>\n",
       "  </tbody>\n",
       "</table>\n",
       "</div>"
      ],
      "text/plain": [
       "   sepal_length_cm  sepal_width_cm  petal_length_cm  petal_width_cm  \\\n",
       "0              5.1             3.5              1.4             0.2   \n",
       "1              4.9             3.0              1.4             0.2   \n",
       "2              4.7             3.2              1.3             0.2   \n",
       "3              4.6             3.1              1.5             0.2   \n",
       "4              5.0             3.6              1.4             0.2   \n",
       "\n",
       "         class  \n",
       "0  Iris-setosa  \n",
       "1  Iris-setosa  \n",
       "2  Iris-setosa  \n",
       "3  Iris-setosa  \n",
       "4  Iris-setosa  "
      ]
     },
     "execution_count": 405,
     "metadata": {},
     "output_type": "execute_result"
    }
   ],
   "source": [
    "iris = pd.read_csv('data/iris.data.txt')\n",
    "iris.head()"
   ]
  },
  {
   "cell_type": "code",
   "execution_count": 406,
   "id": "aa876420",
   "metadata": {},
   "outputs": [],
   "source": [
    "mappings = {\n",
    "   'Iris-setosa': 0,\n",
    "   'Iris-versicolor': 1,\n",
    "   'Iris-virginica': 2\n",
    "}\n",
    "iris['class'] = iris['class'].apply(lambda x: mappings[x])"
   ]
  },
  {
   "cell_type": "code",
   "execution_count": 407,
   "id": "078d0aa3",
   "metadata": {},
   "outputs": [],
   "source": [
    "X = iris.drop('class', axis=1).values\n",
    "y = iris['class'].values\n",
    "\n",
    "train_X, test_X, train_y, test_y = train_test_split(X, y, test_size=0.8)\n",
    "\n",
    "train_X = Variable(torch.Tensor(train_X).float())\n",
    "test_X = Variable(torch.Tensor(test_X).float())\n",
    "train_y = Variable(torch.Tensor(train_y).long())\n",
    "test_y = Variable(torch.Tensor(test_y).long())"
   ]
  },
  {
   "cell_type": "markdown",
   "id": "eb1f87d2",
   "metadata": {},
   "source": [
    "**Instantiate the dataframe, the loss function and the optimizer**"
   ]
  },
  {
   "cell_type": "code",
   "execution_count": 408,
   "id": "81f1407a",
   "metadata": {},
   "outputs": [],
   "source": [
    "# Our model\n",
    "net = IrisNet()\n",
    "\n",
    "# Out loss function\n",
    "criterion = nn.CrossEntropyLoss()\n",
    "\n",
    "# Our optimizer\n",
    "learning_rate = 0.01\n",
    "optimizer = torch.optim.SGD(net.parameters(), lr=learning_rate)  "
   ]
  },
  {
   "cell_type": "markdown",
   "id": "d230cb19",
   "metadata": {},
   "source": [
    "**Train the neural network**"
   ]
  },
  {
   "cell_type": "markdown",
   "id": "0e6654dc",
   "metadata": {},
   "source": [
    "**Backpropegation:** <br>\n",
    "A link that helped me understand it - <br>\n",
    "https://medium.com/@14prakash/back-propagation-is-very-simple-who-made-it-complicated-97b794c97e5c <br>\n",
    "\n",
    "**Activation function:** <br>\n",
    "ReLU is the most commonly used activation that has less drawbacks than sigmoid. <br>\n",
    "Link that helped me understand it - <br>\n",
    "\n",
    "**Loss function:**\n",
    "I chose the cross entropy loss function because \n",
    "<br>\n",
    "Link that helped me understand it - <br>\n",
    "\n",
    "**Optimizer:** <br>\n",
    "The Stocastic gradient descent was chosen because -\n",
    "<br>\n",
    "Link that helped me understand it - <br>\n"
   ]
  },
  {
   "cell_type": "code",
   "execution_count": 409,
   "id": "9887e313",
   "metadata": {},
   "outputs": [
    {
     "name": "stdout",
     "output_type": "stream",
     "text": [
      "number of epoch 0 loss tensor(1.1261)\n",
      "number of epoch 10 loss tensor(1.0122)\n",
      "number of epoch 20 loss tensor(0.9715)\n",
      "number of epoch 30 loss tensor(0.9297)\n",
      "number of epoch 40 loss tensor(0.8863)\n",
      "number of epoch 50 loss tensor(0.8413)\n",
      "number of epoch 60 loss tensor(0.7954)\n",
      "number of epoch 70 loss tensor(0.7450)\n",
      "number of epoch 80 loss tensor(0.7004)\n",
      "number of epoch 90 loss tensor(0.6591)\n",
      "number of epoch 100 loss tensor(0.6210)\n",
      "number of epoch 110 loss tensor(0.5868)\n",
      "number of epoch 120 loss tensor(0.5563)\n",
      "number of epoch 130 loss tensor(0.5290)\n",
      "number of epoch 140 loss tensor(0.5045)\n",
      "number of epoch 150 loss tensor(0.4825)\n",
      "number of epoch 160 loss tensor(0.4626)\n",
      "number of epoch 170 loss tensor(0.4430)\n",
      "number of epoch 180 loss tensor(0.4260)\n",
      "number of epoch 190 loss tensor(0.4104)\n",
      "number of epoch 200 loss tensor(0.3958)\n",
      "number of epoch 210 loss tensor(0.3820)\n",
      "number of epoch 220 loss tensor(0.3691)\n",
      "number of epoch 230 loss tensor(0.3569)\n",
      "number of epoch 240 loss tensor(0.3452)\n",
      "number of epoch 250 loss tensor(0.3339)\n",
      "number of epoch 260 loss tensor(0.3231)\n",
      "number of epoch 270 loss tensor(0.3127)\n",
      "number of epoch 280 loss tensor(0.3027)\n",
      "number of epoch 290 loss tensor(0.2930)\n",
      "number of epoch 300 loss tensor(0.2835)\n",
      "number of epoch 310 loss tensor(0.2743)\n",
      "number of epoch 320 loss tensor(0.2655)\n",
      "number of epoch 330 loss tensor(0.2570)\n",
      "number of epoch 340 loss tensor(0.2489)\n",
      "number of epoch 350 loss tensor(0.2411)\n",
      "number of epoch 360 loss tensor(0.2337)\n",
      "number of epoch 370 loss tensor(0.2265)\n",
      "number of epoch 380 loss tensor(0.2198)\n",
      "number of epoch 390 loss tensor(0.2133)\n",
      "number of epoch 400 loss tensor(0.2072)\n",
      "number of epoch 410 loss tensor(0.2012)\n",
      "number of epoch 420 loss tensor(0.1955)\n",
      "number of epoch 430 loss tensor(0.1898)\n",
      "number of epoch 440 loss tensor(0.1843)\n",
      "number of epoch 450 loss tensor(0.1792)\n",
      "number of epoch 460 loss tensor(0.1743)\n",
      "number of epoch 470 loss tensor(0.1695)\n",
      "number of epoch 480 loss tensor(0.1651)\n",
      "number of epoch 490 loss tensor(0.1609)\n"
     ]
    }
   ],
   "source": [
    "num_epochs = 500\n",
    "\n",
    "train_loss = []\n",
    "test_loss = []\n",
    "\n",
    "for epoch in range(num_epochs):\n",
    "    net.train()           # Put the network into training mode\n",
    "    optimizer.zero_grad() # Clear off the gradients from any past operation\n",
    "    output = net(train_X) # Do the forward pass\n",
    "    loss = criterion(output, train_y) # Calculate the loss\n",
    "    loss.backward()       # Calculate the gradients with help of back propagation      \n",
    "    optimizer.step()      # Ask the optimizer to adjust the parameters based on the gradients\n",
    "    \n",
    "    if epoch % 10 == 0:\n",
    "        print ('number of epoch', epoch, 'loss', loss.data)\n",
    "\n",
    "    net.eval()                # Put the network into evaluation mode\n",
    "    \n",
    "    # Book keeping\n",
    "    \n",
    "    # Record the loss of training data\n",
    "    train_loss.append(loss.data) \n",
    "    \n",
    "    # Record the loss of training data\n",
    "    outputs = net(Variable(test_X))\n",
    "    loss = criterion(outputs, Variable(test_y))\n",
    "    test_loss.append(loss.data)"
   ]
  },
  {
   "cell_type": "markdown",
   "id": "3a966ffb",
   "metadata": {},
   "source": [
    "**Plot loss per iteration**"
   ]
  },
  {
   "cell_type": "code",
   "execution_count": 410,
   "id": "b2b21dd6",
   "metadata": {},
   "outputs": [
    {
     "data": {
      "image/png": "[encoded data removed]",
      "text/plain": [
       "<Figure size 864x576 with 1 Axes>"
      ]
     },
     "metadata": {
      "needs_background": "light"
     },
     "output_type": "display_data"
    }
   ],
   "source": [
    "fig = plt.figure(figsize=(12, 8))\n",
    "plt.plot(train_loss, label='train loss')\n",
    "plt.plot(test_loss, label='test loss')\n",
    "plt.title(\"Train and Test Loss\")\n",
    "plt.legend()\n",
    "plt.show()"
   ]
  },
  {
   "cell_type": "code",
   "execution_count": 411,
   "id": "e8b119e8",
   "metadata": {},
   "outputs": [
    {
     "name": "stdout",
     "output_type": "stream",
     "text": [
      "prediction accuracy 0.9833333333333333\n",
      "precision 0.9833333333333333\n",
      "recall 0.9833333333333333\n"
     ]
    }
   ],
   "source": [
    "predict_out = net(test_X)\n",
    "_, predict_y = torch.max(predict_out, 1)\n",
    "\n",
    "print('prediction accuracy', accuracy_score(test_y.data, predict_y.data))\n",
    "\n",
    "print('precision', precision_score(test_y.data, predict_y.data, average='micro'))\n",
    "print('recall', recall_score(test_y.data, predict_y.data, average='micro'))"
   ]
  }
 ],
 "metadata": {
  "kernelspec": {
   "display_name": "Python 3",
   "language": "python",
   "name": "python3"
  },
  "language_info": {
   "codemirror_mode": {
    "name": "ipython",
    "version": 3
   },
   "file_extension": ".py",
   "mimetype": "text/x-python",
   "name": "python",
   "nbconvert_exporter": "python",
   "pygments_lexer": "ipython3",
   "version": "3.6.13"
  }
 },
 "nbformat": 4,
 "nbformat_minor": 5
}
